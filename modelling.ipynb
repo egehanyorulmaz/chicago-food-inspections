{
 "cells": [
  {
   "cell_type": "code",
   "execution_count": 86,
   "metadata": {},
   "outputs": [
    {
     "name": "stdout",
     "output_type": "stream",
     "text": [
      "Available CPUs: 16\n",
      "INFO: Pandarallel will run on 14 workers.\n",
      "INFO: Pandarallel will use standard multiprocessing data transfer (pipe) to transfer data between the main process and workers.\n"
     ]
    }
   ],
   "source": [
    "import pandas as pd \n",
    "import numpy as np\n",
    "import re\n",
    "from pandarallel import pandarallel\n",
    "import multiprocessing\n",
    "\n",
    "from sklearn.feature_extraction.text import CountVectorizer, HashingVectorizer, TfidfTransformer, TfidfVectorizer\n",
    "\n",
    "\n",
    "num_processors = multiprocessing.cpu_count()\n",
    "print(f'Available CPUs: {num_processors}')\n",
    "pandarallel.initialize(nb_workers=num_processors-6, use_memory_fs=False, progress_bar=True)\n",
    "pandarallel.initialize()\n",
    "\n",
    "pd.set_option('display.max_colwidth', None)"
   ]
  },
  {
   "cell_type": "code",
   "execution_count": 87,
   "metadata": {},
   "outputs": [
    {
     "data": {
      "text/html": [
       "<div>\n",
       "<style scoped>\n",
       "    .dataframe tbody tr th:only-of-type {\n",
       "        vertical-align: middle;\n",
       "    }\n",
       "\n",
       "    .dataframe tbody tr th {\n",
       "        vertical-align: top;\n",
       "    }\n",
       "\n",
       "    .dataframe thead th {\n",
       "        text-align: right;\n",
       "    }\n",
       "</style>\n",
       "<table border=\"1\" class=\"dataframe\">\n",
       "  <thead>\n",
       "    <tr style=\"text-align: right;\">\n",
       "      <th></th>\n",
       "      <th>inspection_id</th>\n",
       "      <th>dba_name</th>\n",
       "      <th>aka_name</th>\n",
       "      <th>license_</th>\n",
       "      <th>facility_type</th>\n",
       "      <th>risk</th>\n",
       "      <th>address</th>\n",
       "      <th>city</th>\n",
       "      <th>state</th>\n",
       "      <th>zip</th>\n",
       "      <th>...</th>\n",
       "      <th>results</th>\n",
       "      <th>violations</th>\n",
       "      <th>latitude</th>\n",
       "      <th>longitude</th>\n",
       "      <th>location</th>\n",
       "      <th>:@computed_region_awaf_s7ux</th>\n",
       "      <th>:@computed_region_6mkv_f3dw</th>\n",
       "      <th>:@computed_region_vrxf_vc4k</th>\n",
       "      <th>:@computed_region_bdys_3d7i</th>\n",
       "      <th>:@computed_region_43wa_7qmu</th>\n",
       "    </tr>\n",
       "  </thead>\n",
       "  <tbody>\n",
       "    <tr>\n",
       "      <th>0</th>\n",
       "      <td>2569663</td>\n",
       "      <td>MARKET FRESH FOODS</td>\n",
       "      <td>MARKET FRESH FOODS</td>\n",
       "      <td>52593.0</td>\n",
       "      <td>Grocery Store</td>\n",
       "      <td>Risk 2 (Medium)</td>\n",
       "      <td>800 N KEDZIE AVE</td>\n",
       "      <td>CHICAGO</td>\n",
       "      <td>IL</td>\n",
       "      <td>60651.0</td>\n",
       "      <td>...</td>\n",
       "      <td>Pass</td>\n",
       "      <td>55. PHYSICAL FACILITIES INSTALLED, MAINTAINED &amp; CLEAN - Comments: OBSERVED SOILED MOP HEADS NOT PROPERLY STORED. INSTRUCTED MANAGER TO HANG MOP HEADS TO PREVENT INSECT BREEDING.</td>\n",
       "      <td>41.895615</td>\n",
       "      <td>-87.706705</td>\n",
       "      <td>{'latitude': '41.89561531354531', 'longitude': '-87.70670532510552'}</td>\n",
       "      <td>41.0</td>\n",
       "      <td>4299.0</td>\n",
       "      <td>24.0</td>\n",
       "      <td>150.0</td>\n",
       "      <td>46.0</td>\n",
       "    </tr>\n",
       "    <tr>\n",
       "      <th>1</th>\n",
       "      <td>2569650</td>\n",
       "      <td>BURRITO ARCELIANO, INC.</td>\n",
       "      <td>BURRITO ARCELIANO</td>\n",
       "      <td>2886706.0</td>\n",
       "      <td>Restaurant</td>\n",
       "      <td>Risk 1 (High)</td>\n",
       "      <td>3414 W IRVING PARK RD</td>\n",
       "      <td>CHICAGO</td>\n",
       "      <td>IL</td>\n",
       "      <td>60618.0</td>\n",
       "      <td>...</td>\n",
       "      <td>Pass w/ Conditions</td>\n",
       "      <td>3. MANAGEMENT, FOOD EMPLOYEE AND CONDITIONAL EMPLOYEE; KNOWLEDGE, RESPONSIBILITIES AND REPORTING - Comments: 2-102.14(O) FOUND NO EMPLOYEE HEALTH POLICY/TRAINING ON SITE. INSTRUCTED TO PROVIDE A SIGNED EMPLOYEE HEALTH POLICY FOR EACH EMPLOYEE.  PRIORITY FOUNDATION VIOLATION 7-38-010 | 55. PHYSICAL FACILITIES INSTALLED, MAINTAINED &amp; CLEAN - Comments: 6-201.16  INSTRUCTED TO REPLACE MISSING FLOOR TILE IN PREP/COOKING AREA AND IN THE DINING AREA. | 58. ALLERGEN TRAINING AS REQUIRED - Comments: 2-102.13  FOUND INCOMPLETE APPROVED ALLERGEN TRAINING CERTIFICATE AVAILABLE. INSTRUCTED ANY PERSON WITH CITY OF CHICAGO FOOD SERVICE SANITATION CERTIFICATE TO COMPLY WITH ALLERGEN TRAINING CERTIFICATION.</td>\n",
       "      <td>41.953957</td>\n",
       "      <td>-87.713560</td>\n",
       "      <td>{'latitude': '41.953957216483', 'longitude': '-87.71355988117966'}</td>\n",
       "      <td>2.0</td>\n",
       "      <td>21538.0</td>\n",
       "      <td>16.0</td>\n",
       "      <td>23.0</td>\n",
       "      <td>12.0</td>\n",
       "    </tr>\n",
       "    <tr>\n",
       "      <th>2</th>\n",
       "      <td>2569647</td>\n",
       "      <td>Sauganash Elementary School</td>\n",
       "      <td>Sauganash Elementary School</td>\n",
       "      <td>25211.0</td>\n",
       "      <td>School</td>\n",
       "      <td>Risk 1 (High)</td>\n",
       "      <td>6040 N Kilpatrick (4700W) AVE</td>\n",
       "      <td>CHICAGO</td>\n",
       "      <td>IL</td>\n",
       "      <td>60646.0</td>\n",
       "      <td>...</td>\n",
       "      <td>Pass</td>\n",
       "      <td>NaN</td>\n",
       "      <td>NaN</td>\n",
       "      <td>NaN</td>\n",
       "      <td>NaN</td>\n",
       "      <td>NaN</td>\n",
       "      <td>NaN</td>\n",
       "      <td>NaN</td>\n",
       "      <td>NaN</td>\n",
       "      <td>NaN</td>\n",
       "    </tr>\n",
       "    <tr>\n",
       "      <th>3</th>\n",
       "      <td>2569640</td>\n",
       "      <td>TAO THONG</td>\n",
       "      <td>TAO THONG</td>\n",
       "      <td>2595274.0</td>\n",
       "      <td>Restaurant</td>\n",
       "      <td>Risk 1 (High)</td>\n",
       "      <td>4700 N KIMBALL AVE</td>\n",
       "      <td>CHICAGO</td>\n",
       "      <td>IL</td>\n",
       "      <td>60625.0</td>\n",
       "      <td>...</td>\n",
       "      <td>Out of Business</td>\n",
       "      <td>NaN</td>\n",
       "      <td>41.966671</td>\n",
       "      <td>-87.713458</td>\n",
       "      <td>{'latitude': '41.96667122670007', 'longitude': '-87.71345814571208'}</td>\n",
       "      <td>2.0</td>\n",
       "      <td>21849.0</td>\n",
       "      <td>14.0</td>\n",
       "      <td>118.0</td>\n",
       "      <td>20.0</td>\n",
       "    </tr>\n",
       "    <tr>\n",
       "      <th>4</th>\n",
       "      <td>2569646</td>\n",
       "      <td>COUNCIL FOR JEWISH ELDERLY</td>\n",
       "      <td>COUNCIL FOR JEWISH ELDERLY</td>\n",
       "      <td>23540.0</td>\n",
       "      <td>NaN</td>\n",
       "      <td>Risk 3 (Low)</td>\n",
       "      <td>3003 W TOUHY AVE</td>\n",
       "      <td>CHICAGO</td>\n",
       "      <td>IL</td>\n",
       "      <td>60645.0</td>\n",
       "      <td>...</td>\n",
       "      <td>Out of Business</td>\n",
       "      <td>NaN</td>\n",
       "      <td>42.011850</td>\n",
       "      <td>-87.704640</td>\n",
       "      <td>{'latitude': '42.01185027650496', 'longitude': '-87.70464008544714'}</td>\n",
       "      <td>42.0</td>\n",
       "      <td>22528.0</td>\n",
       "      <td>20.0</td>\n",
       "      <td>32.0</td>\n",
       "      <td>27.0</td>\n",
       "    </tr>\n",
       "  </tbody>\n",
       "</table>\n",
       "<p>5 rows × 22 columns</p>\n",
       "</div>"
      ],
      "text/plain": [
       "   inspection_id                     dba_name                     aka_name  \\\n",
       "0        2569663           MARKET FRESH FOODS           MARKET FRESH FOODS   \n",
       "1        2569650      BURRITO ARCELIANO, INC.            BURRITO ARCELIANO   \n",
       "2        2569647  Sauganash Elementary School  Sauganash Elementary School   \n",
       "3        2569640                    TAO THONG                    TAO THONG   \n",
       "4        2569646   COUNCIL FOR JEWISH ELDERLY   COUNCIL FOR JEWISH ELDERLY   \n",
       "\n",
       "    license_  facility_type             risk                         address  \\\n",
       "0    52593.0  Grocery Store  Risk 2 (Medium)               800 N KEDZIE AVE    \n",
       "1  2886706.0     Restaurant    Risk 1 (High)          3414 W IRVING PARK RD    \n",
       "2    25211.0         School    Risk 1 (High)  6040 N Kilpatrick (4700W) AVE    \n",
       "3  2595274.0     Restaurant    Risk 1 (High)             4700 N KIMBALL AVE    \n",
       "4    23540.0            NaN     Risk 3 (Low)               3003 W TOUHY AVE    \n",
       "\n",
       "      city state      zip  ...             results  \\\n",
       "0  CHICAGO    IL  60651.0  ...                Pass   \n",
       "1  CHICAGO    IL  60618.0  ...  Pass w/ Conditions   \n",
       "2  CHICAGO    IL  60646.0  ...                Pass   \n",
       "3  CHICAGO    IL  60625.0  ...     Out of Business   \n",
       "4  CHICAGO    IL  60645.0  ...     Out of Business   \n",
       "\n",
       "                                                                                                                                                                                                                                                                                                                                                                                                                                                                                                                                                                                                                                                                                                                    violations  \\\n",
       "0                                                                                                                                                                                                                                                                                                                                                                                                                                                                                                                                           55. PHYSICAL FACILITIES INSTALLED, MAINTAINED & CLEAN - Comments: OBSERVED SOILED MOP HEADS NOT PROPERLY STORED. INSTRUCTED MANAGER TO HANG MOP HEADS TO PREVENT INSECT BREEDING.    \n",
       "1  3. MANAGEMENT, FOOD EMPLOYEE AND CONDITIONAL EMPLOYEE; KNOWLEDGE, RESPONSIBILITIES AND REPORTING - Comments: 2-102.14(O) FOUND NO EMPLOYEE HEALTH POLICY/TRAINING ON SITE. INSTRUCTED TO PROVIDE A SIGNED EMPLOYEE HEALTH POLICY FOR EACH EMPLOYEE.  PRIORITY FOUNDATION VIOLATION 7-38-010 | 55. PHYSICAL FACILITIES INSTALLED, MAINTAINED & CLEAN - Comments: 6-201.16  INSTRUCTED TO REPLACE MISSING FLOOR TILE IN PREP/COOKING AREA AND IN THE DINING AREA. | 58. ALLERGEN TRAINING AS REQUIRED - Comments: 2-102.13  FOUND INCOMPLETE APPROVED ALLERGEN TRAINING CERTIFICATE AVAILABLE. INSTRUCTED ANY PERSON WITH CITY OF CHICAGO FOOD SERVICE SANITATION CERTIFICATE TO COMPLY WITH ALLERGEN TRAINING CERTIFICATION.   \n",
       "2                                                                                                                                                                                                                                                                                                                                                                                                                                                                                                                                                                                                                                                                                                                          NaN   \n",
       "3                                                                                                                                                                                                                                                                                                                                                                                                                                                                                                                                                                                                                                                                                                                          NaN   \n",
       "4                                                                                                                                                                                                                                                                                                                                                                                                                                                                                                                                                                                                                                                                                                                          NaN   \n",
       "\n",
       "    latitude  longitude  \\\n",
       "0  41.895615 -87.706705   \n",
       "1  41.953957 -87.713560   \n",
       "2        NaN        NaN   \n",
       "3  41.966671 -87.713458   \n",
       "4  42.011850 -87.704640   \n",
       "\n",
       "                                                               location  \\\n",
       "0  {'latitude': '41.89561531354531', 'longitude': '-87.70670532510552'}   \n",
       "1    {'latitude': '41.953957216483', 'longitude': '-87.71355988117966'}   \n",
       "2                                                                   NaN   \n",
       "3  {'latitude': '41.96667122670007', 'longitude': '-87.71345814571208'}   \n",
       "4  {'latitude': '42.01185027650496', 'longitude': '-87.70464008544714'}   \n",
       "\n",
       "   :@computed_region_awaf_s7ux :@computed_region_6mkv_f3dw  \\\n",
       "0                         41.0                      4299.0   \n",
       "1                          2.0                     21538.0   \n",
       "2                          NaN                         NaN   \n",
       "3                          2.0                     21849.0   \n",
       "4                         42.0                     22528.0   \n",
       "\n",
       "   :@computed_region_vrxf_vc4k  :@computed_region_bdys_3d7i  \\\n",
       "0                         24.0                        150.0   \n",
       "1                         16.0                         23.0   \n",
       "2                          NaN                          NaN   \n",
       "3                         14.0                        118.0   \n",
       "4                         20.0                         32.0   \n",
       "\n",
       "   :@computed_region_43wa_7qmu  \n",
       "0                         46.0  \n",
       "1                         12.0  \n",
       "2                          NaN  \n",
       "3                         20.0  \n",
       "4                         27.0  \n",
       "\n",
       "[5 rows x 22 columns]"
      ]
     },
     "execution_count": 87,
     "metadata": {},
     "output_type": "execute_result"
    }
   ],
   "source": [
    "df = pd.read_csv('Food_Inspections.csv')\n",
    "\n",
    "df.head()"
   ]
  },
  {
   "cell_type": "code",
   "execution_count": 88,
   "metadata": {},
   "outputs": [],
   "source": [
    "df = df[['violations', 'results']]"
   ]
  },
  {
   "cell_type": "code",
   "execution_count": 89,
   "metadata": {
    "scrolled": true
   },
   "outputs": [
    {
     "name": "stdout",
     "output_type": "stream",
     "text": [
      "CPU times: user 587 ms, sys: 1.28 s, total: 1.87 s\n",
      "Wall time: 3.75 s\n"
     ]
    }
   ],
   "source": [
    "%%time\n",
    "\n",
    "df = df[df['violations'].notna()]\n",
    "\n",
    "\n",
    "def extract_description(t):\n",
    "    \"\"\"\n",
    "    Extracts description for the violation column\n",
    "    \"\"\"\n",
    "    description_regex = r\"\\s[A-Z \\W]+ -\"\n",
    "    descriptions = re.findall(description_regex, t)\n",
    "    descriptions = [description[1:-2] for description in descriptions]\n",
    "    return descriptions\n",
    "\n",
    "df['descriptions'] = df['violations'].parallel_apply(lambda t: extract_description(t))\n"
   ]
  },
  {
   "cell_type": "code",
   "execution_count": 90,
   "metadata": {},
   "outputs": [],
   "source": [
    "## extract comments from the violations column\n",
    "def extract_comments(df):\n",
    "    \n",
    "    for idx, row in df.iterrows():\n",
    "        violation = row['violations']\n",
    "        for description in row['descriptions']:\n",
    "            violation = violation.replace(description, '')\n",
    "        df.at[idx, 'violations'] = violation\n",
    "    return df\n",
    "\n",
    "df = extract_comments(df)"
   ]
  },
  {
   "cell_type": "code",
   "execution_count": 91,
   "metadata": {},
   "outputs": [],
   "source": [
    "def modify_comments(t):\n",
    "    \"\"\"\n",
    "    Clears numbers, special characters from the violations\n",
    "    \"\"\"\n",
    "    pure_text_regex = r\"[A-Z]*\"\n",
    "    pure_comments = re.findall(pure_text_regex, t)\n",
    "    pure_comments = \" \".join(pure_comments)\n",
    "    \n",
    "    single_text_regex = r\"\\b[a-zA-Z]\\b\"\n",
    "    pure_comments = re.sub(single_text_regex, \"\", pure_comments)\n",
    "    return pure_comments\n",
    "\n",
    "df['violations'] = df['violations'].parallel_apply(lambda t: modify_comments(t))"
   ]
  },
  {
   "cell_type": "code",
   "execution_count": 92,
   "metadata": {
    "scrolled": true
   },
   "outputs": [
    {
     "data": {
      "text/html": [
       "<div>\n",
       "<style scoped>\n",
       "    .dataframe tbody tr th:only-of-type {\n",
       "        vertical-align: middle;\n",
       "    }\n",
       "\n",
       "    .dataframe tbody tr th {\n",
       "        vertical-align: top;\n",
       "    }\n",
       "\n",
       "    .dataframe thead th {\n",
       "        text-align: right;\n",
       "    }\n",
       "</style>\n",
       "<table border=\"1\" class=\"dataframe\">\n",
       "  <thead>\n",
       "    <tr style=\"text-align: right;\">\n",
       "      <th></th>\n",
       "      <th>violations</th>\n",
       "      <th>results</th>\n",
       "      <th>descriptions</th>\n",
       "    </tr>\n",
       "  </thead>\n",
       "  <tbody>\n",
       "    <tr>\n",
       "      <th>0</th>\n",
       "      <td>OBSERVED  SOILED  MOP  HEADS  NOT  PROPERLY  STORED   INSTRUCTED  MANAGER  TO  HANG  MOP  HEADS  TO  PREVENT  INSECT  BREEDING</td>\n",
       "      <td>Pass</td>\n",
       "      <td>[PHYSICAL FACILITIES INSTALLED, MAINTAINED &amp; CLEAN]</td>\n",
       "    </tr>\n",
       "    <tr>\n",
       "      <th>1</th>\n",
       "      <td>FOUND  NO  EMPLOYEE  HEALTH  POLICY  TRAINING  ON  SITE   INSTRUCTED  TO  PROVIDE    SIGNED  EMPLOYEE  HEALTH  POLICY  FOR  EACH  EMPLOYEE    PRIORITY  FOUNDATION  VIOLATION                                        INSTRUCTED  TO  REPLACE  MISSING  FLOOR  TILE  IN  PREP  COOKING  AREA  AND  IN  THE  DINING  AREA                                FOUND  INCOMPLETE  APPROVED  ALLERGEN  TRAINING  CERTIFICATE  AVAILABLE   INSTRUCTED  ANY  PERSON  WITH  CITY  OF  CHICAGO  FOOD  SERVICE  SANITATION  CERTIFICATE  TO  COMPLY  WITH  ALLERGEN  TRAINING  CERTIFICATION</td>\n",
       "      <td>Pass w/ Conditions</td>\n",
       "      <td>[MANAGEMENT, FOOD EMPLOYEE AND CONDITIONAL EMPLOYEE; KNOWLEDGE, RESPONSIBILITIES AND REPORTING, PHYSICAL FACILITIES INSTALLED, MAINTAINED &amp; CLEAN, ALLERGEN TRAINING AS REQUIRED]</td>\n",
       "    </tr>\n",
       "    <tr>\n",
       "      <th>5</th>\n",
       "      <td>FOUND  NO  EMPLOYEE  HEALTH  POLICY  TRAINING  ON  SITE   INSTRUCTED  TO  PROVIDE    SIGNED  EMPLOYEE  HEALTH  POLICY  FOR  EACH  EMPLOYEE     PRIORITY  FOUNDATION  VIOLATION                                  INSTRUCTED  TO  RODENT  PROOF  BOTTOM  OF  REAR  EXIT  DOOR</td>\n",
       "      <td>Pass w/ Conditions</td>\n",
       "      <td>[MANAGEMENT, FOOD EMPLOYEE AND CONDITIONAL EMPLOYEE; KNOWLEDGE, RESPONSIBILITIES AND REPORTING, INSECTS, RODENTS, &amp; ANIMALS NOT PRESENT]</td>\n",
       "    </tr>\n",
       "    <tr>\n",
       "      <th>6</th>\n",
       "      <td>OBSERVED  ICE  SCOOP  LAYING  ON  TOP  OF  TRAY   INSTRUCTED  MANAGER  TO  STORE  ICE  SCOOP  HANDLE  UP  ABOVE  ICE  TO  PREVENT  CONTAMINATION                       OBSERVED  EXCESSIVE  ACCUMULATED  DUST  ON  THE  CONDENSOR  IN  THE  WALK  IN  COOLER   INSTRUCTED  TO  CLEAN                      OBSERVED  AN  EXCESS  OF  DIRT  ENCRUSTED  ONTO  THE  FLOOR  OF  THE  WALK  IN  COOLER   MUST  DETAIL  CLEAN  AND  MAINTAIN                     OBSERVED  SOILED  MOP  HEADS  NOT  PROPERLY  STORED   INSTRUCTED  MANAGER  TO  HANG  MOP  HEADS  TO  PREVENT  INSECT  BREEDING</td>\n",
       "      <td>Pass</td>\n",
       "      <td>[IN-USE UTENSILS: PROPERLY STORED, NON-FOOD/FOOD CONTACT SURFACES CLEAN, NON-FOOD/FOOD CONTACT SURFACES CLEAN, PHYSICAL FACILITIES INSTALLED, MAINTAINED &amp; CLEAN]</td>\n",
       "    </tr>\n",
       "    <tr>\n",
       "      <th>8</th>\n",
       "      <td>INSTRUCTED  TO  REPLACE  BURNT  OUT  LIGHT  BULBS  FOR  LIGHT  FIXTURE  IN  UTILITY  MOP  SINK  CLOSET  AND  MAINTAIN  ADEQUATE  LIGHTING  AT  ALL  TIMES</td>\n",
       "      <td>Pass</td>\n",
       "      <td>[ADEQUATE VENTILATION &amp; LIGHTING; DESIGNATED AREAS USED]</td>\n",
       "    </tr>\n",
       "  </tbody>\n",
       "</table>\n",
       "</div>"
      ],
      "text/plain": [
       "                                                                                                                                                                                                                                                                                                                                                                                                                                                                                                                                                                                                     violations  \\\n",
       "0                                                                                                                                                                                                                                                                                                                                                                                                                                                                             OBSERVED  SOILED  MOP  HEADS  NOT  PROPERLY  STORED   INSTRUCTED  MANAGER  TO  HANG  MOP  HEADS  TO  PREVENT  INSECT  BREEDING      \n",
       "1                              FOUND  NO  EMPLOYEE  HEALTH  POLICY  TRAINING  ON  SITE   INSTRUCTED  TO  PROVIDE    SIGNED  EMPLOYEE  HEALTH  POLICY  FOR  EACH  EMPLOYEE    PRIORITY  FOUNDATION  VIOLATION                                        INSTRUCTED  TO  REPLACE  MISSING  FLOOR  TILE  IN  PREP  COOKING  AREA  AND  IN  THE  DINING  AREA                                FOUND  INCOMPLETE  APPROVED  ALLERGEN  TRAINING  CERTIFICATE  AVAILABLE   INSTRUCTED  ANY  PERSON  WITH  CITY  OF  CHICAGO  FOOD  SERVICE  SANITATION  CERTIFICATE  TO  COMPLY  WITH  ALLERGEN  TRAINING  CERTIFICATION     \n",
       "5                                                                                                                                                                                                                                                                                                                                 FOUND  NO  EMPLOYEE  HEALTH  POLICY  TRAINING  ON  SITE   INSTRUCTED  TO  PROVIDE    SIGNED  EMPLOYEE  HEALTH  POLICY  FOR  EACH  EMPLOYEE     PRIORITY  FOUNDATION  VIOLATION                                  INSTRUCTED  TO  RODENT  PROOF  BOTTOM  OF  REAR  EXIT  DOOR     \n",
       "6                   OBSERVED  ICE  SCOOP  LAYING  ON  TOP  OF  TRAY   INSTRUCTED  MANAGER  TO  STORE  ICE  SCOOP  HANDLE  UP  ABOVE  ICE  TO  PREVENT  CONTAMINATION                       OBSERVED  EXCESSIVE  ACCUMULATED  DUST  ON  THE  CONDENSOR  IN  THE  WALK  IN  COOLER   INSTRUCTED  TO  CLEAN                      OBSERVED  AN  EXCESS  OF  DIRT  ENCRUSTED  ONTO  THE  FLOOR  OF  THE  WALK  IN  COOLER   MUST  DETAIL  CLEAN  AND  MAINTAIN                     OBSERVED  SOILED  MOP  HEADS  NOT  PROPERLY  STORED   INSTRUCTED  MANAGER  TO  HANG  MOP  HEADS  TO  PREVENT  INSECT  BREEDING      \n",
       "8                                                                                                                                                                                                                                                                                                                                                                                                                                                   INSTRUCTED  TO  REPLACE  BURNT  OUT  LIGHT  BULBS  FOR  LIGHT  FIXTURE  IN  UTILITY  MOP  SINK  CLOSET  AND  MAINTAIN  ADEQUATE  LIGHTING  AT  ALL  TIMES     \n",
       "\n",
       "              results  \\\n",
       "0                Pass   \n",
       "1  Pass w/ Conditions   \n",
       "5  Pass w/ Conditions   \n",
       "6                Pass   \n",
       "8                Pass   \n",
       "\n",
       "                                                                                                                                                                        descriptions  \n",
       "0                                                                                                                                [PHYSICAL FACILITIES INSTALLED, MAINTAINED & CLEAN]  \n",
       "1  [MANAGEMENT, FOOD EMPLOYEE AND CONDITIONAL EMPLOYEE; KNOWLEDGE, RESPONSIBILITIES AND REPORTING, PHYSICAL FACILITIES INSTALLED, MAINTAINED & CLEAN, ALLERGEN TRAINING AS REQUIRED]  \n",
       "5                                           [MANAGEMENT, FOOD EMPLOYEE AND CONDITIONAL EMPLOYEE; KNOWLEDGE, RESPONSIBILITIES AND REPORTING, INSECTS, RODENTS, & ANIMALS NOT PRESENT]  \n",
       "6                  [IN-USE UTENSILS: PROPERLY STORED, NON-FOOD/FOOD CONTACT SURFACES CLEAN, NON-FOOD/FOOD CONTACT SURFACES CLEAN, PHYSICAL FACILITIES INSTALLED, MAINTAINED & CLEAN]  \n",
       "8                                                                                                                           [ADEQUATE VENTILATION & LIGHTING; DESIGNATED AREAS USED]  "
      ]
     },
     "execution_count": 92,
     "metadata": {},
     "output_type": "execute_result"
    }
   ],
   "source": [
    "df.head()"
   ]
  },
  {
   "cell_type": "markdown",
   "metadata": {},
   "source": [
    "## Create classification model, predicting the outcome of food safety inspection based on the inspectors’ comments\n",
    "\n",
    "* Leverage the results of your homework from Week-1 and Week-2 to extract free-form text comments from inspectors\n",
    "* Discard the text from “Health Code” – only keep inspectors’ comments\n",
    "* Build classification model, predicting the outcome of inspection – your target variable is “Results”\n",
    "* Explain why you selected a particular text pre-processing technique\n",
    "* Visualize results of at least two text classifiers and select the most robust one\n",
    "* You can choose to build a binary classifier (limiting your data to Pass / Fail) or multinomial classifier with all available values in Results"
   ]
  },
  {
   "cell_type": "markdown",
   "metadata": {},
   "source": [
    "## Preprocessing"
   ]
  },
  {
   "cell_type": "code",
   "execution_count": 103,
   "metadata": {},
   "outputs": [],
   "source": [
    "from sklearn.model_selection import train_test_split\n",
    "from sklearn.feature_extraction.text import CountVectorizer, HashingVectorizer, TfidfTransformer, TfidfVectorizer\n",
    "from sklearn.naive_bayes import MultinomialNB\n",
    "from sklearn.metrics import classification_report, confusion_matrix, accuracy_score\n",
    "from sklearn.linear_model import LogisticRegression, SGDClassifier\n",
    "from sklearn import metrics"
   ]
  },
  {
   "cell_type": "code",
   "execution_count": 94,
   "metadata": {},
   "outputs": [
    {
     "data": {
      "text/plain": [
       "['Pass',\n",
       " 'Pass w/ Conditions',\n",
       " 'Fail',\n",
       " 'No Entry',\n",
       " 'Out of Business',\n",
       " 'Not Ready']"
      ]
     },
     "execution_count": 94,
     "metadata": {},
     "output_type": "execute_result"
    }
   ],
   "source": [
    "unique_y = df['results'].unique().tolist()\n",
    "unique_y"
   ]
  },
  {
   "cell_type": "code",
   "execution_count": 95,
   "metadata": {},
   "outputs": [],
   "source": [
    "binary_y_map = {'Pass': 0, \n",
    "                'Pass w/ Conditions': 2,\n",
    "                'Fail': 1,\n",
    "                'No Entry': 2,\n",
    "                'Out of Business': 2,\n",
    "                'Not Ready':2}\n",
    "\n",
    "multinomial_y_map = {'Pass': 0, \n",
    "                     'Pass w/ Conditions': 1,\n",
    "                     'Fail': 2,\n",
    "                     'No Entry': 3,\n",
    "                     'Out of Business': 4,\n",
    "                     'Not Ready':5}\n",
    "\n",
    "\n",
    "df['binary_y'] = df.results.map(binary_y_map)\n",
    "df['multinomial_y'] = df.results.map(multinomial_y_map)"
   ]
  },
  {
   "cell_type": "markdown",
   "metadata": {},
   "source": [
    "## Binary Classifier"
   ]
  },
  {
   "cell_type": "markdown",
   "metadata": {},
   "source": [
    "#### Filtering binary targets"
   ]
  },
  {
   "cell_type": "code",
   "execution_count": 155,
   "metadata": {},
   "outputs": [],
   "source": [
    "sub_df = df[df.binary_y != 2].copy()"
   ]
  },
  {
   "cell_type": "code",
   "execution_count": 156,
   "metadata": {},
   "outputs": [
    {
     "name": "stdout",
     "output_type": "stream",
     "text": [
      "X Shape: (142293,)\n",
      "y Shape: (142293,)\n"
     ]
    }
   ],
   "source": [
    "# define X and y\n",
    "X = sub_df.violations\n",
    "y = sub_df.results\n",
    "\n",
    "print(f\"X Shape: {X.shape}\")\n",
    "print(f\"y Shape: {y.shape}\")"
   ]
  },
  {
   "cell_type": "code",
   "execution_count": 157,
   "metadata": {},
   "outputs": [
    {
     "name": "stdout",
     "output_type": "stream",
     "text": [
      "Training records, X_train: (128063,) y_train: (128063,)\n",
      "Testing records, X_test: (14230,) y_test: (14230,)\n"
     ]
    }
   ],
   "source": [
    "# split X and y into training and testing sets\n",
    "X_train, X_test, y_train, y_test = train_test_split(X, y, test_size=0.1, random_state=1)\n",
    "print(f\"Training records, X_train: {X_train.shape} y_train: {y_train.shape}\")\n",
    "print(f\"Testing records, X_test: {X_test.shape} y_test: {y_test.shape}\")"
   ]
  },
  {
   "cell_type": "code",
   "execution_count": 159,
   "metadata": {},
   "outputs": [],
   "source": [
    "def fit_model(model, count_vectorizer, X_train, X_test, y_train, y_test, get_feature_importance=True):\n",
    "    print(\"Model inputs are: \")\n",
    "    print(count_vectorizer)\n",
    "    print(model)\n",
    "    print(\"Fitting the Count Vectorizer\")\n",
    "    count_vectorizer.fit(X_train)\n",
    "    \n",
    "    X_train_dtm = count_vectorizer.fit_transform(X_train)    \n",
    "    X_test_dtm = count_vectorizer.transform(X_test)\n",
    "    print(\"CountVectorizer is successfuly fitted for train and test data!\")\n",
    "    \n",
    "    model.fit(X_train_dtm, y_train)\n",
    "    y_pred_class = model.predict(X_test_dtm)\n",
    "    print(f\"Test Accuracy: {metrics.accuracy_score(y_test, y_pred_class) * 100:.1f}%\")\n",
    "    \n",
    "    print(classification_report(y_test, y_pred_class))\n",
    "    \n",
    "    if get_feature_importance:\n",
    "        print(\"The most important features\")\n",
    "        print(\"-\"*20)\n",
    "        feature_names = count_vectorizer.get_feature_names()\n",
    "        coefs_with_fns = zip(feature_names, model.coef_[0])\n",
    "\n",
    "        coefs_with_fns_df = pd.DataFrame(coefs_with_fns,\n",
    "                            columns=['feature', 'coefficient'])\n",
    "        \n",
    "        coefs_with_fns_df.sort_values(by='coefficient', ascending=True, inplace=True)\n",
    "        print(coefs_with_fns_df)\n",
    "        \n",
    "        print(\"The least important features\")\n",
    "        print(\"-\"*20)\n",
    "        coefs_with_fns_df.sort_values(by='coefficient', ascending=False, inplace=True)\n",
    "        print(coefs_with_fns_df)"
   ]
  },
  {
   "cell_type": "code",
   "execution_count": 160,
   "metadata": {},
   "outputs": [
    {
     "name": "stdout",
     "output_type": "stream",
     "text": [
      "Model inputs are: \n",
      "CountVectorizer(ngram_range=(1, 3))\n",
      "MultinomialNB()\n",
      "Fitting the Count Vectorizer\n",
      "CountVectorizer is successfuly fitted for train and test data!\n",
      "Test Accuracy: 92.3%\n",
      "              precision    recall  f1-score   support\n",
      "\n",
      "        Fail       0.87      0.89      0.88      4546\n",
      "        Pass       0.95      0.94      0.94      9684\n",
      "\n",
      "    accuracy                           0.92     14230\n",
      "   macro avg       0.91      0.92      0.91     14230\n",
      "weighted avg       0.92      0.92      0.92     14230\n",
      "\n",
      "The most important features\n",
      "--------------------\n",
      "                        feature  coefficient\n",
      "1052428    located in container   -16.639919\n",
      "810112   good housekeeping must   -16.639919\n",
      "810114    good housekeeping not   -16.639919\n",
      "1585339     sanitize part sinks   -16.639919\n",
      "810118          good humor deep   -16.639919\n",
      "...                         ...          ...\n",
      "1144941                    must    -4.830228\n",
      "1878592                      to    -4.699774\n",
      "1804243                     the    -4.459472\n",
      "895396                       in    -4.367413\n",
      "56667                       and    -4.240973\n",
      "\n",
      "[2104858 rows x 2 columns]\n",
      "The least important features\n",
      "--------------------\n",
      "                      feature  coefficient\n",
      "56667                     and    -4.240973\n",
      "895396                     in    -4.367413\n",
      "1804243                   the    -4.459472\n",
      "1878592                    to    -4.699774\n",
      "1144941                  must    -4.830228\n",
      "...                       ...          ...\n",
      "1928214        trays tumblers   -16.639919\n",
      "1928215    trays tumblers etc   -16.639919\n",
      "1928216          trays unable   -16.639919\n",
      "279163         bread the bags   -16.639919\n",
      "1052428  located in container   -16.639919\n",
      "\n",
      "[2104858 rows x 2 columns]\n"
     ]
    }
   ],
   "source": [
    "nb = MultinomialNB()\n",
    "fit_model(nb, count_vec, X_train, X_test, y_train, y_test, get_feature_importance=True)"
   ]
  },
  {
   "cell_type": "markdown",
   "metadata": {},
   "source": [
    "### Logistic Regression Model"
   ]
  },
  {
   "cell_type": "code",
   "execution_count": 162,
   "metadata": {},
   "outputs": [
    {
     "name": "stdout",
     "output_type": "stream",
     "text": [
      "Model inputs are: \n",
      "CountVectorizer(ngram_range=(1, 3))\n",
      "LogisticRegression(max_iter=10000)\n",
      "Fitting the Count Vectorizer\n",
      "CountVectorizer is successfuly fitted for train and test data!\n",
      "Test Accuracy: 96.5%\n",
      "              precision    recall  f1-score   support\n",
      "\n",
      "        Fail       0.98      0.91      0.94      4546\n",
      "        Pass       0.96      0.99      0.97      9684\n",
      "\n",
      "    accuracy                           0.96     14230\n",
      "   macro avg       0.97      0.95      0.96     14230\n",
      "weighted avg       0.97      0.96      0.96     14230\n",
      "\n",
      "The most important features\n",
      "--------------------\n",
      "                         feature  coefficient\n",
      "1612250                  serious    -5.188269\n",
      "492940                  critical    -3.524388\n",
      "1372158                       pm    -3.099630\n",
      "1412278                 priority    -2.971511\n",
      "1613546        serious violation    -2.921242\n",
      "...                          ...          ...\n",
      "2004522          violation still     1.143805\n",
      "1612437  serious citation issued     1.169564\n",
      "1174487       no citation issued     1.483458\n",
      "890628                 idph idph     1.494129\n",
      "468865                 corrected     1.718329\n",
      "\n",
      "[2104858 rows x 2 columns]\n",
      "The least important features\n",
      "--------------------\n",
      "                         feature  coefficient\n",
      "468865                 corrected     1.718329\n",
      "890628                 idph idph     1.494129\n",
      "1174487       no citation issued     1.483458\n",
      "1612437  serious citation issued     1.169564\n",
      "2004522          violation still     1.143805\n",
      "...                          ...          ...\n",
      "1613546        serious violation    -2.921242\n",
      "1412278                 priority    -2.971511\n",
      "1372158                       pm    -3.099630\n",
      "492940                  critical    -3.524388\n",
      "1612250                  serious    -5.188269\n",
      "\n",
      "[2104858 rows x 2 columns]\n"
     ]
    }
   ],
   "source": [
    "logreg = LogisticRegression(max_iter=10000)\n",
    "fit_model(logreg, count_vec, X_train, X_test, y_train, y_test, get_feature_importance=True)"
   ]
  },
  {
   "cell_type": "markdown",
   "metadata": {},
   "source": [
    "### Improving model performance"
   ]
  },
  {
   "cell_type": "code",
   "execution_count": 163,
   "metadata": {},
   "outputs": [],
   "source": [
    "# remove English stop words\n",
    "count_vec2 = CountVectorizer(stop_words='english', ngram_range=(1, 3))"
   ]
  },
  {
   "cell_type": "code",
   "execution_count": 164,
   "metadata": {},
   "outputs": [
    {
     "name": "stdout",
     "output_type": "stream",
     "text": [
      "Model inputs are: \n",
      "CountVectorizer(ngram_range=(1, 3), stop_words='english')\n",
      "MultinomialNB()\n",
      "Fitting the Count Vectorizer\n",
      "CountVectorizer is successfuly fitted for train and test data!\n",
      "Test Accuracy: 92.0%\n",
      "              precision    recall  f1-score   support\n",
      "\n",
      "        Fail       0.87      0.89      0.88      4546\n",
      "        Pass       0.95      0.94      0.94      9684\n",
      "\n",
      "    accuracy                           0.92     14230\n",
      "   macro avg       0.91      0.91      0.91     14230\n",
      "weighted avg       0.92      0.92      0.92     14230\n",
      "\n",
      "The most important features\n",
      "--------------------\n",
      "                            feature  coefficient\n",
      "1359440    paper washrooms evidence   -16.267587\n",
      "1200832              metal beam dry   -16.267587\n",
      "740724   floor washrooms inspection   -16.267587\n",
      "1736585     shelves uncovered foods   -16.267587\n",
      "1736584           shelves uncovered   -16.267587\n",
      "...                             ...          ...\n",
      "1426584                        prep    -5.231908\n",
      "1146164                    maintain    -5.015131\n",
      "36087                          area    -4.996122\n",
      "980030                   instructed    -4.825353\n",
      "278662                        clean    -4.576022\n",
      "\n",
      "[2194094 rows x 2 columns]\n",
      "The least important features\n",
      "--------------------\n",
      "                          feature  coefficient\n",
      "278662                      clean    -4.576022\n",
      "980030                 instructed    -4.825353\n",
      "36087                        area    -4.996122\n",
      "1146164                  maintain    -5.015131\n",
      "1426584                      prep    -5.231908\n",
      "...                           ...          ...\n",
      "62395             area surrounded   -16.267587\n",
      "2159239                water tall   -16.267587\n",
      "2159240          water tall times   -16.267587\n",
      "62392        area surfface smooth   -16.267587\n",
      "1359440  paper washrooms evidence   -16.267587\n",
      "\n",
      "[2194094 rows x 2 columns]\n"
     ]
    }
   ],
   "source": [
    "nb = MultinomialNB()\n",
    "fit_model(nb, count_vec2, X_train, X_test, y_train, y_test, get_feature_importance=True)"
   ]
  },
  {
   "cell_type": "code",
   "execution_count": 165,
   "metadata": {
    "scrolled": true
   },
   "outputs": [
    {
     "name": "stdout",
     "output_type": "stream",
     "text": [
      "Model inputs are: \n",
      "CountVectorizer(ngram_range=(1, 3), stop_words='english')\n",
      "LogisticRegression(max_iter=10000)\n",
      "Fitting the Count Vectorizer\n",
      "CountVectorizer is successfuly fitted for train and test data!\n",
      "Test Accuracy: 96.3%\n",
      "              precision    recall  f1-score   support\n",
      "\n",
      "        Fail       0.98      0.90      0.94      4546\n",
      "        Pass       0.96      0.99      0.97      9684\n",
      "\n",
      "    accuracy                           0.96     14230\n",
      "   macro avg       0.97      0.95      0.96     14230\n",
      "weighted avg       0.96      0.96      0.96     14230\n",
      "\n",
      "The most important features\n",
      "--------------------\n",
      "                     feature  coefficient\n",
      "2080707            violation    -3.456105\n",
      "2085343   violation observed    -3.316820\n",
      "1399369                   pm    -3.187397\n",
      "271181              citation    -2.933967\n",
      "464299              critical    -2.538992\n",
      "...                      ...          ...\n",
      "2087202  violation remaining     1.804260\n",
      "421831        core violation     1.921852\n",
      "2087217    violation remains     1.981430\n",
      "2081926  violation corrected     2.022905\n",
      "2086466    violation pending     3.199307\n",
      "\n",
      "[2194094 rows x 2 columns]\n",
      "The least important features\n",
      "--------------------\n",
      "                     feature  coefficient\n",
      "2086466    violation pending     3.199307\n",
      "2081926  violation corrected     2.022905\n",
      "2087217    violation remains     1.981430\n",
      "421831        core violation     1.921852\n",
      "2087202  violation remaining     1.804260\n",
      "...                      ...          ...\n",
      "464299              critical    -2.538992\n",
      "271181              citation    -2.933967\n",
      "1399369                   pm    -3.187397\n",
      "2085343   violation observed    -3.316820\n",
      "2080707            violation    -3.456105\n",
      "\n",
      "[2194094 rows x 2 columns]\n"
     ]
    }
   ],
   "source": [
    "fit_model(logreg, count_vec2, X_train, X_test, y_train, y_test, get_feature_importance=True)"
   ]
  },
  {
   "cell_type": "markdown",
   "metadata": {},
   "source": [
    "# Preprocessing Technique Selection\n",
    "**Answers:** Explain why you selected a particular text pre-processing technique.\n",
    "\n",
    "**I preferred to use the countvectorizer as the vectorization technique instead of other techniques. First of all, in count-vectorizer we can get more explainable results considering that it counts the occurrence of each word and the we can explain the exact meaning for each token. Secondly, we could have used TF-IDF to introduce word importance across the documents, but violations are limited in number and we have enough number of data points in our data. Therefore, I will be using CountVectorizer. As for the parameters of CountVectorizer, removing the stopwords yielded more explanatory n-gram features.**"
   ]
  },
  {
   "cell_type": "markdown",
   "metadata": {},
   "source": [
    "# Model Selection\n",
    "\n",
    "**I will be using the Logistics Regression for binary classification of pass/fail. The model has the highest accuracy compared to Naive Bayes and the errors for both target classes are almost the same. Therefore, the best modelling approach is to use CountVectorizer with the elimination of stopwords and use the Logistic Regression for the model.** "
   ]
  },
  {
   "cell_type": "code",
   "execution_count": 166,
   "metadata": {
    "scrolled": false
   },
   "outputs": [
    {
     "name": "stdout",
     "output_type": "stream",
     "text": [
      "Model inputs are: \n",
      "CountVectorizer(ngram_range=(1, 3), stop_words='english')\n",
      "LogisticRegression(max_iter=10000)\n",
      "Fitting the Count Vectorizer\n",
      "CountVectorizer is successfuly fitted for train and test data!\n",
      "Test Accuracy: 96.3%\n",
      "              precision    recall  f1-score   support\n",
      "\n",
      "        Fail       0.98      0.90      0.94      4546\n",
      "        Pass       0.96      0.99      0.97      9684\n",
      "\n",
      "    accuracy                           0.96     14230\n",
      "   macro avg       0.97      0.95      0.96     14230\n",
      "weighted avg       0.96      0.96      0.96     14230\n",
      "\n",
      "The most important features\n",
      "--------------------\n",
      "                     feature  coefficient\n",
      "2080707            violation    -3.456105\n",
      "2085343   violation observed    -3.316820\n",
      "1399369                   pm    -3.187397\n",
      "271181              citation    -2.933967\n",
      "464299              critical    -2.538992\n",
      "...                      ...          ...\n",
      "2087202  violation remaining     1.804260\n",
      "421831        core violation     1.921852\n",
      "2087217    violation remains     1.981430\n",
      "2081926  violation corrected     2.022905\n",
      "2086466    violation pending     3.199307\n",
      "\n",
      "[2194094 rows x 2 columns]\n",
      "The least important features\n",
      "--------------------\n",
      "                     feature  coefficient\n",
      "2086466    violation pending     3.199307\n",
      "2081926  violation corrected     2.022905\n",
      "2087217    violation remains     1.981430\n",
      "421831        core violation     1.921852\n",
      "2087202  violation remaining     1.804260\n",
      "...                      ...          ...\n",
      "464299              critical    -2.538992\n",
      "271181              citation    -2.933967\n",
      "1399369                   pm    -3.187397\n",
      "2085343   violation observed    -3.316820\n",
      "2080707            violation    -3.456105\n",
      "\n",
      "[2194094 rows x 2 columns]\n"
     ]
    }
   ],
   "source": [
    "logreg = LogisticRegression(max_iter=10000)\n",
    "fit_model(logreg, count_vec2, X_train, X_test, y_train, y_test, get_feature_importance=True)"
   ]
  }
 ],
 "metadata": {
  "kernelspec": {
   "display_name": "Python 3",
   "language": "python",
   "name": "python3"
  },
  "language_info": {
   "codemirror_mode": {
    "name": "ipython",
    "version": 3
   },
   "file_extension": ".py",
   "mimetype": "text/x-python",
   "name": "python",
   "nbconvert_exporter": "python",
   "pygments_lexer": "ipython3",
   "version": "3.8.5"
  }
 },
 "nbformat": 4,
 "nbformat_minor": 4
}
