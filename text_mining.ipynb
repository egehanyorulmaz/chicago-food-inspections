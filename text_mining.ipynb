{
 "cells": [
  {
   "cell_type": "code",
   "execution_count": 7,
   "metadata": {},
   "outputs": [],
   "source": [
    "import pandas as pd \n",
    "import numpy as np\n",
    "import re\n",
    "\n",
    "pd.set_option('display.max_colwidth', None)"
   ]
  },
  {
   "cell_type": "markdown",
   "metadata": {},
   "source": [
    "## Extracting regulation descriptions from each record corresponding to a failed inspection"
   ]
  },
  {
   "cell_type": "code",
   "execution_count": 8,
   "metadata": {
    "scrolled": true
   },
   "outputs": [
    {
     "data": {
      "text/html": [
       "<div>\n",
       "<style scoped>\n",
       "    .dataframe tbody tr th:only-of-type {\n",
       "        vertical-align: middle;\n",
       "    }\n",
       "\n",
       "    .dataframe tbody tr th {\n",
       "        vertical-align: top;\n",
       "    }\n",
       "\n",
       "    .dataframe thead th {\n",
       "        text-align: right;\n",
       "    }\n",
       "</style>\n",
       "<table border=\"1\" class=\"dataframe\">\n",
       "  <thead>\n",
       "    <tr style=\"text-align: right;\">\n",
       "      <th></th>\n",
       "      <th>Inspection ID</th>\n",
       "      <th>DBA Name</th>\n",
       "      <th>AKA Name</th>\n",
       "      <th>License #</th>\n",
       "      <th>Facility Type</th>\n",
       "      <th>Risk</th>\n",
       "      <th>Address</th>\n",
       "      <th>City</th>\n",
       "      <th>State</th>\n",
       "      <th>Zip</th>\n",
       "      <th>Inspection Date</th>\n",
       "      <th>Inspection Type</th>\n",
       "      <th>Results</th>\n",
       "      <th>Violations</th>\n",
       "      <th>Latitude</th>\n",
       "      <th>Longitude</th>\n",
       "      <th>Location</th>\n",
       "    </tr>\n",
       "  </thead>\n",
       "  <tbody>\n",
       "    <tr>\n",
       "      <th>0</th>\n",
       "      <td>2561123</td>\n",
       "      <td>LOWCOUNTRY</td>\n",
       "      <td>LOWCOUNTRY</td>\n",
       "      <td>1042664.0</td>\n",
       "      <td>Restaurant</td>\n",
       "      <td>Risk 1 (High)</td>\n",
       "      <td>3343 N CLARK ST</td>\n",
       "      <td>CHICAGO</td>\n",
       "      <td>IL</td>\n",
       "      <td>60657.0</td>\n",
       "      <td>07/21/2022</td>\n",
       "      <td>Complaint</td>\n",
       "      <td>No Entry</td>\n",
       "      <td>NaN</td>\n",
       "      <td>41.942869</td>\n",
       "      <td>-87.652863</td>\n",
       "      <td>(41.942869318828365, -87.65286280377227)</td>\n",
       "    </tr>\n",
       "    <tr>\n",
       "      <th>1</th>\n",
       "      <td>2560419</td>\n",
       "      <td>CHARTWELLS</td>\n",
       "      <td>MANSUETO HIGH SCHOOL</td>\n",
       "      <td>2549059.0</td>\n",
       "      <td>HIGH SCHOOL KITCHEN</td>\n",
       "      <td>Risk 1 (High)</td>\n",
       "      <td>2911 W W 47TH ST</td>\n",
       "      <td>CHICAGO</td>\n",
       "      <td>IL</td>\n",
       "      <td>60632.0</td>\n",
       "      <td>07/07/2022</td>\n",
       "      <td>Canvass</td>\n",
       "      <td>Out of Business</td>\n",
       "      <td>NaN</td>\n",
       "      <td>NaN</td>\n",
       "      <td>NaN</td>\n",
       "      <td>NaN</td>\n",
       "    </tr>\n",
       "    <tr>\n",
       "      <th>2</th>\n",
       "      <td>2557095</td>\n",
       "      <td>WOW BAO</td>\n",
       "      <td>WOW BAO</td>\n",
       "      <td>1379974.0</td>\n",
       "      <td>Restaurant</td>\n",
       "      <td>Risk 1 (High)</td>\n",
       "      <td>835 N MICHIGAN AVE</td>\n",
       "      <td>CHICAGO</td>\n",
       "      <td>IL</td>\n",
       "      <td>60611.0</td>\n",
       "      <td>06/09/2022</td>\n",
       "      <td>Canvass Re-Inspection</td>\n",
       "      <td>Pass</td>\n",
       "      <td>NaN</td>\n",
       "      <td>41.897741</td>\n",
       "      <td>-87.623961</td>\n",
       "      <td>(41.897740856252504, -87.62396131598219)</td>\n",
       "    </tr>\n",
       "    <tr>\n",
       "      <th>3</th>\n",
       "      <td>2557044</td>\n",
       "      <td>PAN ARTESANAL</td>\n",
       "      <td>PAN ARTESANAL</td>\n",
       "      <td>2602146.0</td>\n",
       "      <td>Bakery</td>\n",
       "      <td>Risk 1 (High)</td>\n",
       "      <td>3724 W FULLERTON AVE</td>\n",
       "      <td>CHICAGO</td>\n",
       "      <td>IL</td>\n",
       "      <td>60647.0</td>\n",
       "      <td>06/09/2022</td>\n",
       "      <td>Canvass</td>\n",
       "      <td>Pass</td>\n",
       "      <td>NaN</td>\n",
       "      <td>41.924670</td>\n",
       "      <td>-87.720445</td>\n",
       "      <td>(41.92467025197142, -87.72044496440567)</td>\n",
       "    </tr>\n",
       "    <tr>\n",
       "      <th>4</th>\n",
       "      <td>2556917</td>\n",
       "      <td>BISTRO</td>\n",
       "      <td>BISTRO</td>\n",
       "      <td>2846045.0</td>\n",
       "      <td>Restaurant</td>\n",
       "      <td>Risk 1 (High)</td>\n",
       "      <td>1400 S JEAN BAPTISTE POINTE DUSABLE LAKESHORE DR</td>\n",
       "      <td>CHICAGO</td>\n",
       "      <td>IL</td>\n",
       "      <td>60605.0</td>\n",
       "      <td>06/07/2022</td>\n",
       "      <td>Canvass</td>\n",
       "      <td>Pass</td>\n",
       "      <td>NaN</td>\n",
       "      <td>NaN</td>\n",
       "      <td>NaN</td>\n",
       "      <td>NaN</td>\n",
       "    </tr>\n",
       "  </tbody>\n",
       "</table>\n",
       "</div>"
      ],
      "text/plain": [
       "   Inspection ID       DBA Name              AKA Name  License #  \\\n",
       "0        2561123     LOWCOUNTRY            LOWCOUNTRY  1042664.0   \n",
       "1        2560419     CHARTWELLS  MANSUETO HIGH SCHOOL  2549059.0   \n",
       "2        2557095        WOW BAO               WOW BAO  1379974.0   \n",
       "3        2557044  PAN ARTESANAL         PAN ARTESANAL  2602146.0   \n",
       "4        2556917         BISTRO                BISTRO  2846045.0   \n",
       "\n",
       "         Facility Type           Risk  \\\n",
       "0           Restaurant  Risk 1 (High)   \n",
       "1  HIGH SCHOOL KITCHEN  Risk 1 (High)   \n",
       "2           Restaurant  Risk 1 (High)   \n",
       "3               Bakery  Risk 1 (High)   \n",
       "4           Restaurant  Risk 1 (High)   \n",
       "\n",
       "                                             Address     City State      Zip  \\\n",
       "0                                   3343 N CLARK ST   CHICAGO    IL  60657.0   \n",
       "1                                  2911 W W 47TH ST   CHICAGO    IL  60632.0   \n",
       "2                                835 N MICHIGAN AVE   CHICAGO    IL  60611.0   \n",
       "3                              3724 W FULLERTON AVE   CHICAGO    IL  60647.0   \n",
       "4  1400 S JEAN BAPTISTE POINTE DUSABLE LAKESHORE DR   CHICAGO    IL  60605.0   \n",
       "\n",
       "  Inspection Date        Inspection Type          Results Violations  \\\n",
       "0      07/21/2022              Complaint         No Entry        NaN   \n",
       "1      07/07/2022                Canvass  Out of Business        NaN   \n",
       "2      06/09/2022  Canvass Re-Inspection             Pass        NaN   \n",
       "3      06/09/2022                Canvass             Pass        NaN   \n",
       "4      06/07/2022                Canvass             Pass        NaN   \n",
       "\n",
       "    Latitude  Longitude                                  Location  \n",
       "0  41.942869 -87.652863  (41.942869318828365, -87.65286280377227)  \n",
       "1        NaN        NaN                                       NaN  \n",
       "2  41.897741 -87.623961  (41.897740856252504, -87.62396131598219)  \n",
       "3  41.924670 -87.720445   (41.92467025197142, -87.72044496440567)  \n",
       "4        NaN        NaN                                       NaN  "
      ]
     },
     "execution_count": 8,
     "metadata": {},
     "output_type": "execute_result"
    }
   ],
   "source": [
    "df = pd.read_csv('Food_Inspections.csv')\n",
    "df.head()"
   ]
  },
  {
   "cell_type": "code",
   "execution_count": 9,
   "metadata": {},
   "outputs": [],
   "source": [
    "df = df[df['Results'] == 'Fail']\n",
    "df = df[df['Violations'].notna()]\n",
    "df = df[['Violations']]"
   ]
  },
  {
   "cell_type": "code",
   "execution_count": 10,
   "metadata": {},
   "outputs": [],
   "source": [
    "def extract_description(t):\n",
    "    \"\"\"\n",
    "    Extracts description for the violation column\n",
    "    \"\"\"\n",
    "    description_regex = r\"\\s[A-Z \\W]+ -\"\n",
    "    descriptions = re.findall(description_regex, t)\n",
    "    descriptions = [description[1:-2] for description in descriptions]\n",
    "    return descriptions\n",
    "\n",
    "df['descriptions'] = df['Violations'].apply(lambda t: extract_description(t))"
   ]
  },
  {
   "cell_type": "code",
   "execution_count": 11,
   "metadata": {},
   "outputs": [
    {
     "data": {
      "text/html": [
       "<div>\n",
       "<style scoped>\n",
       "    .dataframe tbody tr th:only-of-type {\n",
       "        vertical-align: middle;\n",
       "    }\n",
       "\n",
       "    .dataframe tbody tr th {\n",
       "        vertical-align: top;\n",
       "    }\n",
       "\n",
       "    .dataframe thead th {\n",
       "        text-align: right;\n",
       "    }\n",
       "</style>\n",
       "<table border=\"1\" class=\"dataframe\">\n",
       "  <thead>\n",
       "    <tr style=\"text-align: right;\">\n",
       "      <th></th>\n",
       "      <th>Violations</th>\n",
       "      <th>descriptions</th>\n",
       "    </tr>\n",
       "  </thead>\n",
       "  <tbody>\n",
       "    <tr>\n",
       "      <th>24</th>\n",
       "      <td>6. PROPER EATING, TASTING, DRINKING, OR TOBACCO USE - Comments: 2-401.11  OBSERVED COFFEE CUPS, PIZZA BOXES AND DOUGHNUTS STORED IN THE MEAT PREP AREA ON THE CUTTING BOARDS AND COUNTERTOPS.  MANAGEMENT INSTRUCTED THAT EMPLOYEES MUST EAT AND DRINK IN DESIGNATED AREAS ONLY. | 10. ADEQUATE HANDWASHING SINKS PROPERLY SUPPLIED AND ACCESSIBLE - Comments: 6-301.14  OBSERVED NO HAND WASHING SIGN LOCATED IN THE WASHROOM ADJACENT TO THE MEAT PREP AREA.  MANAGEMENT INSTRUCTED TO INSTALL AND MAINTAIN. | 10. ADEQUATE HANDWASHING SINKS PROPERLY SUPPLIED AND ACCESSIBLE - Comments: 5-204.11  OBSERVED NO EXPOSED HAND WASHING SINK LOCATED AT THE FRONT CASH REGISTER STATION WHERE FETA CHEESE IS SERVED OUT OF THE DELI CASE TO CUSTOMERS. MANAGEMENT INSTRUCTED TO INSTALL AN EXPOSED HAND WASHING SINK IN THIS AREA OR RELOCATE THE COOLER WHERE A HAND WASHING SINK IS CLOSE AND ACCESSIBLE. PRIORITY FOUNDATION 7-38-030(C). NO CITATION ISSUED. | 29. COMPLIANCE WITH VARIANCE/SPECIALIZED PROCESS/HACCP - Comments: 3-502.12 VACUUM PACKAGING DEVICE ON COUNTERTOP IN REAR MEAT PREPARATION AREA.  UNIT TAGGED 'HELD FOR INSPECTION' AT THIS TIME.  MUST OBTAIN CDPH APPROVAL PRIOR TO TAG REMOVAL AND USE OF DEVICE. | 38. INSECTS, RODENTS, &amp; ANIMALS NOT PRESENT - Comments: 6-501.112  OBSERVED DEAD INSECTS ON THE FLOOR OF THE BASEMENT STORAGE AREA.  MANAGEMENT INSTRUCTED TO CLEAN AND REMOVE ALL DEAD INSECTS. | 47. FOOD &amp; NON-FOOD CONTACT SURFACES CLEANABLE, PROPERLY DESIGNED, CONSTRUCTED &amp; USED - Comments: 4-501.12  OBSERVED SOME CUTTING BOARDS IN THE MEAT PREP AND PRODUCE PREP AREA THAT ARE HEAVILY SCORED AND DISCOLORED.  MANAGEMENT INSTRUCTED TO RESURFACE OR REPLACE THE CUTTING BOARDS. | 47. FOOD &amp; NON-FOOD CONTACT SURFACES CLEANABLE, PROPERLY DESIGNED, CONSTRUCTED &amp; USED - Comments: 4-202.16  OBSERVED MILK AND SODA CRATES USED FOR STORAGE IN THE WALK-IN COOLER WITH ACCUMULATED FOOD DEBRIS UNDER THE CRATES.  MANAGEMENT INSTRUCTED TO REMOVE AND REPLACE WITH SOMETHING WHICH ALLOWS FOR EASY CLEANING, SUCH AS RAISED SHELVING UNITS. | 49. NON-FOOD/FOOD CONTACT SURFACES CLEAN - Comments: 4-602.13  CLEAN THE TOASTER OVEN IN THE PRODUCE PREP AREA, AND THE FAN COVERS IN THE MEAT WALK-IN COOLER. | 53. TOILET FACILITIES: PROPERLY CONSTRUCTED, SUPPLIED, &amp; CLEANED - Comments: 6-501.19  THE SELF-CLOSING DOOR DEVICE FOR THE WASHROOM DOOR IS NOT INSTALLED.  MANAGEMENT INSTRUCTED TO REPAIR AND MAINTAIN. | 54. GARBAGE &amp; REFUSE PROPERLY DISPOSED; FACILITIES MAINTAINED - Comments: 5-501.110  OBSERVED USED CUTTING BOARDS AND GARBAGE AND LITTER ON THE GROUND SURROUNDING THE GARBAGE DUMPSTERS.  MANAGEMENT INSTRUCTED TO CLEAN AND MAINTAIN THE OUTSIDE GARBAGE AREA AT ALL TIMES.  PRIORITY FOUNDATION 7-38-020(B).  CITATION ISSUED. | 55. PHYSICAL FACILITIES INSTALLED, MAINTAINED &amp; CLEAN - Comments: 6-501.114  REMOVE ALL UNNECESSARY ITEMS FROM UNDER THE STAIRCASE TO THE OFFICE AND BASEMENT. STORE ALL ELSE TO PREVENT PEST HARBORAGE AND TO FACILITATE CLEANING. | 55. PHYSICAL FACILITIES INSTALLED, MAINTAINED &amp; CLEAN - Comments: 6-501.12  CLEAN THE WALLS IN THE MEAT PREP AREAS AND PRODUCE PREP AREA WITH FOOD DEBRIS AND SPLATTER.  CLEAN THE FLOOR THROUGHOUT THE PREP AREAS, WALK-IN COOLERS AND BASEMENT. REMOVE ALL LITTER AND DEBRIS. | 55. PHYSICAL FACILITIES INSTALLED, MAINTAINED &amp; CLEAN - Comments: 6-501.16  OBSERVED A WET MOP STORED ON THE FLOOR IN THE PRODUCE PREP AREA.  MANAGEMENT INSTRUCTED TO HANG ALL MOPS TO ALLOW THEM TO AIR DRY. | 59. PREVIOUS PRIORITY FOUNDATION VIOLATION CORRECTED - Comments: 8-404.13(B)(3)  PREVIOUS PRIORITY FOUNDATION VIOLATION FROM REPORT #2528686 ON 8/27/21 NOT CORRECTED:  38 - OBSERVED OVER 50 LIVE SMALL FLYING INSECTS ON THE WALLS AND FLYING AROUND IN THE PRODUCE PREP AREA, MEAT PREP AREAS AND FRUIT DISPLAY AREAS.  ADDITIONAL PEST CONTROL SERVICE IS NEEDED TO ELIMINATE THE PEST ACTIVITY.  PRIORITY 7-42-090.  CITATION ISSUED. | 60. PREVIOUS CORE VIOLATION CORRECTED - Comments: 8-404.13(B)(4)  PREVIOUS CORE VIOLATIONS FROM REPORT #2509827 ON 5/17/21 NOT CORRECTED: 57 - NO PROOF OF FOOD HANDLER TRAINING CERTIFICATE FOR ALL EMPLOYEES HANDLING FOOD. INSTRUCTED TO PROVIDE. PRIORITY FOUNDATION 7-42-090. | 64. MISCELLANEOUS / PUBLIC HEALTH ORDERS - Comments: OBSERVED SEVERAL EMPLOYEES AND CUSTOMERS NOT WEARING A FACE MASK WHILE INSIDE OF THE STORE. MANAGEMENT INSTRUCTED THAT ALL EMPLOYEES AND CUSTOMERS MUST WEAR A FACE MASK WHILE INSIDE OF THE STORE AT ALL TIMES. UNSAFE AND UNSANITARY PREMISES 7-28-060. CITATION ISSUED.</td>\n",
       "      <td>[PROPER EATING, TASTING, DRINKING, OR TOBACCO USE, ADEQUATE HANDWASHING SINKS PROPERLY SUPPLIED AND ACCESSIBLE, ADEQUATE HANDWASHING SINKS PROPERLY SUPPLIED AND ACCESSIBLE, COMPLIANCE WITH VARIANCE/SPECIALIZED PROCESS/HACCP, INSECTS, RODENTS, &amp; ANIMALS NOT PRESENT, FOOD &amp; NON-FOOD CONTACT SURFACES CLEANABLE, PROPERLY DESIGNED, CONSTRUCTED &amp; USED, FOOD &amp; NON-FOOD CONTACT SURFACES CLEANABLE, PROPERLY DESIGNED, CONSTRUCTED &amp; USED, NON-FOOD/FOOD CONTACT SURFACES CLEAN, TOILET FACILITIES: PROPERLY CONSTRUCTED, SUPPLIED, &amp; CLEANED, GARBAGE &amp; REFUSE PROPERLY DISPOSED; FACILITIES MAINTAINED, PHYSICAL FACILITIES INSTALLED, MAINTAINED &amp; CLEAN, PHYSICAL FACILITIES INSTALLED, MAINTAINED &amp; CLEAN, PHYSICAL FACILITIES INSTALLED, MAINTAINED &amp; CLEAN, PREVIOUS PRIORITY FOUNDATION VIOLATION CORRECTED, PREVIOUS CORE VIOLATION CORRECTED, MISCELLANEOUS / PUBLIC HEALTH ORDERS]</td>\n",
       "    </tr>\n",
       "  </tbody>\n",
       "</table>\n",
       "</div>"
      ],
      "text/plain": [
       "                                                                                                                                                                                                                                                                                                                                                                                                                                                                                                                                                                                                                                                                                                                                                                                                                                                                                                                                                                                                                                                                                                                                                                                                                                                                                                                                                                                                                                                                                                                                                                                                                                                                                                                                                                                                                                                                                                                                                                                                                                                                                                                                                                                                                                                                                                                                                                                                                                                                                                                                                                                                                                                                                                                                                                                                                                                                                                                                                                                                                                                                                                                                                                                                                                                                                                                                                                                                                                                                                                                                                                                                                                                                                                                                                                                                                                                                                                                                                                                                                                                                                                                                                                                                                                                                                                                                                                                                                                                                                                                                                                                                                             Violations  \\\n",
       "24  6. PROPER EATING, TASTING, DRINKING, OR TOBACCO USE - Comments: 2-401.11  OBSERVED COFFEE CUPS, PIZZA BOXES AND DOUGHNUTS STORED IN THE MEAT PREP AREA ON THE CUTTING BOARDS AND COUNTERTOPS.  MANAGEMENT INSTRUCTED THAT EMPLOYEES MUST EAT AND DRINK IN DESIGNATED AREAS ONLY. | 10. ADEQUATE HANDWASHING SINKS PROPERLY SUPPLIED AND ACCESSIBLE - Comments: 6-301.14  OBSERVED NO HAND WASHING SIGN LOCATED IN THE WASHROOM ADJACENT TO THE MEAT PREP AREA.  MANAGEMENT INSTRUCTED TO INSTALL AND MAINTAIN. | 10. ADEQUATE HANDWASHING SINKS PROPERLY SUPPLIED AND ACCESSIBLE - Comments: 5-204.11  OBSERVED NO EXPOSED HAND WASHING SINK LOCATED AT THE FRONT CASH REGISTER STATION WHERE FETA CHEESE IS SERVED OUT OF THE DELI CASE TO CUSTOMERS. MANAGEMENT INSTRUCTED TO INSTALL AN EXPOSED HAND WASHING SINK IN THIS AREA OR RELOCATE THE COOLER WHERE A HAND WASHING SINK IS CLOSE AND ACCESSIBLE. PRIORITY FOUNDATION 7-38-030(C). NO CITATION ISSUED. | 29. COMPLIANCE WITH VARIANCE/SPECIALIZED PROCESS/HACCP - Comments: 3-502.12 VACUUM PACKAGING DEVICE ON COUNTERTOP IN REAR MEAT PREPARATION AREA.  UNIT TAGGED 'HELD FOR INSPECTION' AT THIS TIME.  MUST OBTAIN CDPH APPROVAL PRIOR TO TAG REMOVAL AND USE OF DEVICE. | 38. INSECTS, RODENTS, & ANIMALS NOT PRESENT - Comments: 6-501.112  OBSERVED DEAD INSECTS ON THE FLOOR OF THE BASEMENT STORAGE AREA.  MANAGEMENT INSTRUCTED TO CLEAN AND REMOVE ALL DEAD INSECTS. | 47. FOOD & NON-FOOD CONTACT SURFACES CLEANABLE, PROPERLY DESIGNED, CONSTRUCTED & USED - Comments: 4-501.12  OBSERVED SOME CUTTING BOARDS IN THE MEAT PREP AND PRODUCE PREP AREA THAT ARE HEAVILY SCORED AND DISCOLORED.  MANAGEMENT INSTRUCTED TO RESURFACE OR REPLACE THE CUTTING BOARDS. | 47. FOOD & NON-FOOD CONTACT SURFACES CLEANABLE, PROPERLY DESIGNED, CONSTRUCTED & USED - Comments: 4-202.16  OBSERVED MILK AND SODA CRATES USED FOR STORAGE IN THE WALK-IN COOLER WITH ACCUMULATED FOOD DEBRIS UNDER THE CRATES.  MANAGEMENT INSTRUCTED TO REMOVE AND REPLACE WITH SOMETHING WHICH ALLOWS FOR EASY CLEANING, SUCH AS RAISED SHELVING UNITS. | 49. NON-FOOD/FOOD CONTACT SURFACES CLEAN - Comments: 4-602.13  CLEAN THE TOASTER OVEN IN THE PRODUCE PREP AREA, AND THE FAN COVERS IN THE MEAT WALK-IN COOLER. | 53. TOILET FACILITIES: PROPERLY CONSTRUCTED, SUPPLIED, & CLEANED - Comments: 6-501.19  THE SELF-CLOSING DOOR DEVICE FOR THE WASHROOM DOOR IS NOT INSTALLED.  MANAGEMENT INSTRUCTED TO REPAIR AND MAINTAIN. | 54. GARBAGE & REFUSE PROPERLY DISPOSED; FACILITIES MAINTAINED - Comments: 5-501.110  OBSERVED USED CUTTING BOARDS AND GARBAGE AND LITTER ON THE GROUND SURROUNDING THE GARBAGE DUMPSTERS.  MANAGEMENT INSTRUCTED TO CLEAN AND MAINTAIN THE OUTSIDE GARBAGE AREA AT ALL TIMES.  PRIORITY FOUNDATION 7-38-020(B).  CITATION ISSUED. | 55. PHYSICAL FACILITIES INSTALLED, MAINTAINED & CLEAN - Comments: 6-501.114  REMOVE ALL UNNECESSARY ITEMS FROM UNDER THE STAIRCASE TO THE OFFICE AND BASEMENT. STORE ALL ELSE TO PREVENT PEST HARBORAGE AND TO FACILITATE CLEANING. | 55. PHYSICAL FACILITIES INSTALLED, MAINTAINED & CLEAN - Comments: 6-501.12  CLEAN THE WALLS IN THE MEAT PREP AREAS AND PRODUCE PREP AREA WITH FOOD DEBRIS AND SPLATTER.  CLEAN THE FLOOR THROUGHOUT THE PREP AREAS, WALK-IN COOLERS AND BASEMENT. REMOVE ALL LITTER AND DEBRIS. | 55. PHYSICAL FACILITIES INSTALLED, MAINTAINED & CLEAN - Comments: 6-501.16  OBSERVED A WET MOP STORED ON THE FLOOR IN THE PRODUCE PREP AREA.  MANAGEMENT INSTRUCTED TO HANG ALL MOPS TO ALLOW THEM TO AIR DRY. | 59. PREVIOUS PRIORITY FOUNDATION VIOLATION CORRECTED - Comments: 8-404.13(B)(3)  PREVIOUS PRIORITY FOUNDATION VIOLATION FROM REPORT #2528686 ON 8/27/21 NOT CORRECTED:  38 - OBSERVED OVER 50 LIVE SMALL FLYING INSECTS ON THE WALLS AND FLYING AROUND IN THE PRODUCE PREP AREA, MEAT PREP AREAS AND FRUIT DISPLAY AREAS.  ADDITIONAL PEST CONTROL SERVICE IS NEEDED TO ELIMINATE THE PEST ACTIVITY.  PRIORITY 7-42-090.  CITATION ISSUED. | 60. PREVIOUS CORE VIOLATION CORRECTED - Comments: 8-404.13(B)(4)  PREVIOUS CORE VIOLATIONS FROM REPORT #2509827 ON 5/17/21 NOT CORRECTED: 57 - NO PROOF OF FOOD HANDLER TRAINING CERTIFICATE FOR ALL EMPLOYEES HANDLING FOOD. INSTRUCTED TO PROVIDE. PRIORITY FOUNDATION 7-42-090. | 64. MISCELLANEOUS / PUBLIC HEALTH ORDERS - Comments: OBSERVED SEVERAL EMPLOYEES AND CUSTOMERS NOT WEARING A FACE MASK WHILE INSIDE OF THE STORE. MANAGEMENT INSTRUCTED THAT ALL EMPLOYEES AND CUSTOMERS MUST WEAR A FACE MASK WHILE INSIDE OF THE STORE AT ALL TIMES. UNSAFE AND UNSANITARY PREMISES 7-28-060. CITATION ISSUED.   \n",
       "\n",
       "                                                                                                                                                                                                                                                                                                                                                                                                                                                                                                                                                                                                                                                                                                                                                                                                                                                                                          descriptions  \n",
       "24  [PROPER EATING, TASTING, DRINKING, OR TOBACCO USE, ADEQUATE HANDWASHING SINKS PROPERLY SUPPLIED AND ACCESSIBLE, ADEQUATE HANDWASHING SINKS PROPERLY SUPPLIED AND ACCESSIBLE, COMPLIANCE WITH VARIANCE/SPECIALIZED PROCESS/HACCP, INSECTS, RODENTS, & ANIMALS NOT PRESENT, FOOD & NON-FOOD CONTACT SURFACES CLEANABLE, PROPERLY DESIGNED, CONSTRUCTED & USED, FOOD & NON-FOOD CONTACT SURFACES CLEANABLE, PROPERLY DESIGNED, CONSTRUCTED & USED, NON-FOOD/FOOD CONTACT SURFACES CLEAN, TOILET FACILITIES: PROPERLY CONSTRUCTED, SUPPLIED, & CLEANED, GARBAGE & REFUSE PROPERLY DISPOSED; FACILITIES MAINTAINED, PHYSICAL FACILITIES INSTALLED, MAINTAINED & CLEAN, PHYSICAL FACILITIES INSTALLED, MAINTAINED & CLEAN, PHYSICAL FACILITIES INSTALLED, MAINTAINED & CLEAN, PREVIOUS PRIORITY FOUNDATION VIOLATION CORRECTED, PREVIOUS CORE VIOLATION CORRECTED, MISCELLANEOUS / PUBLIC HEALTH ORDERS]  "
      ]
     },
     "execution_count": 11,
     "metadata": {},
     "output_type": "execute_result"
    }
   ],
   "source": [
    "df.head(1)"
   ]
  },
  {
   "cell_type": "markdown",
   "metadata": {},
   "source": [
    "## Tokenizing each regulation description"
   ]
  },
  {
   "cell_type": "code",
   "execution_count": 12,
   "metadata": {},
   "outputs": [],
   "source": [
    "import nltk\n",
    "import nltk.corpus  \n",
    "from nltk.tokenize import word_tokenize\n",
    "from nltk.text import Text"
   ]
  },
  {
   "cell_type": "code",
   "execution_count": 13,
   "metadata": {},
   "outputs": [
    {
     "data": {
      "text/plain": [
       "'PROPER EATING, TASTING, DRINKING, OR TOBACCO USE, ADEQUATE HANDWASHING SINKS PROPERLY SUPPLIED AND ACCESSIBLE, ADEQUATE HANDWASHING SINKS PROPERLY SUPPLIED AND ACCESSIBLE, COMPLIANCE WITH VARIANCE/SPE'"
      ]
     },
     "execution_count": 13,
     "metadata": {},
     "output_type": "execute_result"
    }
   ],
   "source": [
    "list_ = np.array(df['descriptions'])\n",
    "tokens = Text(list_)\n",
    "tokens = np.concatenate(tokens)\n",
    "# words = nltk.tokenize.word_tokenize(tokens)\n",
    "tokens = \", \".join(tokens)\n",
    "tokens[:200]"
   ]
  },
  {
   "cell_type": "code",
   "execution_count": 14,
   "metadata": {},
   "outputs": [
    {
     "data": {
      "text/plain": [
       "['PROPER',\n",
       " 'EATING',\n",
       " ',',\n",
       " 'TASTING',\n",
       " ',',\n",
       " 'DRINKING',\n",
       " ',',\n",
       " 'OR',\n",
       " 'TOBACCO',\n",
       " 'USE',\n",
       " ',',\n",
       " 'ADEQUATE',\n",
       " 'HANDWASHING',\n",
       " 'SINKS',\n",
       " 'PROPERLY']"
      ]
     },
     "execution_count": 14,
     "metadata": {},
     "output_type": "execute_result"
    }
   ],
   "source": [
    "words = word_tokenize(tokens)\n",
    "words[:15]"
   ]
  },
  {
   "cell_type": "markdown",
   "metadata": {},
   "source": [
    "## Finding the top 10 tokens"
   ]
  },
  {
   "cell_type": "code",
   "execution_count": 15,
   "metadata": {
    "scrolled": true
   },
   "outputs": [
    {
     "name": "stdout",
     "output_type": "stream",
     "text": [
      "<FreqDist with 3025 samples and 3730531 outcomes>\n"
     ]
    }
   ],
   "source": [
    "fdist = nltk.FreqDist(words)\n",
    "print(fdist)\n",
    "\n",
    "#fdist.items() - will give all words\n",
    "token_all = fdist.most_common(10)"
   ]
  },
  {
   "cell_type": "markdown",
   "metadata": {},
   "source": [
    "## Cleaning data: convert to lower case, remove stopwords, punctuation, numbers, etc"
   ]
  },
  {
   "cell_type": "code",
   "execution_count": 16,
   "metadata": {},
   "outputs": [
    {
     "data": {
      "text/plain": [
       "[\"aren't\",\n",
       " 'hers',\n",
       " 'couldn',\n",
       " 'him',\n",
       " 'y',\n",
       " 'you',\n",
       " 'further',\n",
       " 'only',\n",
       " 'which',\n",
       " 'being']"
      ]
     },
     "execution_count": 16,
     "metadata": {},
     "output_type": "execute_result"
    }
   ],
   "source": [
    "stopwords = set(nltk.corpus.stopwords.words('english'))\n",
    "list(stopwords)[:10]"
   ]
  },
  {
   "cell_type": "code",
   "execution_count": 17,
   "metadata": {},
   "outputs": [
    {
     "data": {
      "text/plain": [
       "['proper',\n",
       " 'eating',\n",
       " 'tasting',\n",
       " 'drinking',\n",
       " 'or',\n",
       " 'tobacco',\n",
       " 'use',\n",
       " 'adequate',\n",
       " 'handwashing',\n",
       " 'sinks',\n",
       " 'properly',\n",
       " 'supplied',\n",
       " 'and',\n",
       " 'accessible',\n",
       " 'adequate',\n",
       " 'handwashing',\n",
       " 'sinks',\n",
       " 'properly',\n",
       " 'supplied',\n",
       " 'and']"
      ]
     },
     "execution_count": 17,
     "metadata": {},
     "output_type": "execute_result"
    }
   ],
   "source": [
    "words=[word.lower() for word in words if (word.isalpha()) & (word not in stopwords)]\n",
    "words[:20]"
   ]
  },
  {
   "cell_type": "code",
   "execution_count": 18,
   "metadata": {},
   "outputs": [
    {
     "name": "stdout",
     "output_type": "stream",
     "text": [
      "<FreqDist with 2156 samples and 2728963 outcomes>\n"
     ]
    },
    {
     "data": {
      "text/plain": [
       "[('and', 170713),\n",
       " ('maintained', 83838),\n",
       " ('food', 83568),\n",
       " ('properly', 66966),\n",
       " ('clean', 66375),\n",
       " ('constructed', 65594),\n",
       " ('equipment', 64487),\n",
       " ('installed', 63103),\n",
       " ('of', 61401),\n",
       " ('cleaning', 48289)]"
      ]
     },
     "execution_count": 18,
     "metadata": {},
     "output_type": "execute_result"
    }
   ],
   "source": [
    "fdist = nltk.FreqDist(words)\n",
    "print(fdist)\n",
    "\n",
    "token_preprocessed = fdist.most_common(10)\n",
    "token_preprocessed"
   ]
  },
  {
   "cell_type": "markdown",
   "metadata": {},
   "source": [
    "## Finding the top-10 tokens after applying Porter stemming to the tokens obtained"
   ]
  },
  {
   "cell_type": "code",
   "execution_count": 19,
   "metadata": {},
   "outputs": [
    {
     "data": {
      "text/plain": [
       "[('and', 170713),\n",
       " ('clean', 140318),\n",
       " ('food', 88048),\n",
       " ('maintain', 87945),\n",
       " ('properli', 66966),\n",
       " ('construct', 65594),\n",
       " ('equip', 64493),\n",
       " ('instal', 63162),\n",
       " ('of', 61401),\n",
       " ('surfac', 47463)]"
      ]
     },
     "execution_count": 19,
     "metadata": {},
     "output_type": "execute_result"
    }
   ],
   "source": [
    "porter = nltk.PorterStemmer()\n",
    "\n",
    "token_porter = [porter.stem(t) for t in words]\n",
    "fdist = nltk.FreqDist(token_porter)\n",
    "\n",
    "token_porter = fdist.most_common(10)\n",
    "token_porter"
   ]
  },
  {
   "cell_type": "markdown",
   "metadata": {},
   "source": [
    "## Finding the top-10 tokens after applying Lancaster stemming to the tokens"
   ]
  },
  {
   "cell_type": "code",
   "execution_count": 20,
   "metadata": {},
   "outputs": [
    {
     "data": {
      "text/plain": [
       "[('and', 170713),\n",
       " ('cle', 147846),\n",
       " ('food', 88048),\n",
       " ('maintain', 87945),\n",
       " ('prop', 82874),\n",
       " ('construct', 65594),\n",
       " ('equip', 64493),\n",
       " ('instal', 63162),\n",
       " ('of', 61401),\n",
       " ('surfac', 47463)]"
      ]
     },
     "execution_count": 20,
     "metadata": {},
     "output_type": "execute_result"
    }
   ],
   "source": [
    "lancaster = nltk.LancasterStemmer()\n",
    "\n",
    "token_lancaster = [lancaster.stem(t) for t in words]\n",
    "fdist = nltk.FreqDist(token_lancaster)\n",
    "\n",
    "token_lancaster = fdist.most_common(10)\n",
    "token_lancaster"
   ]
  },
  {
   "cell_type": "markdown",
   "metadata": {},
   "source": [
    "## Find top-10 tokens after applying lemmatization to the tokens obtained"
   ]
  },
  {
   "cell_type": "code",
   "execution_count": 21,
   "metadata": {},
   "outputs": [
    {
     "data": {
      "text/plain": [
       "[('and', 170713),\n",
       " ('food', 88048),\n",
       " ('maintained', 83838),\n",
       " ('properly', 66966),\n",
       " ('clean', 66375),\n",
       " ('constructed', 65594),\n",
       " ('equipment', 64491),\n",
       " ('installed', 63103),\n",
       " ('of', 61401),\n",
       " ('cleaning', 48289)]"
      ]
     },
     "execution_count": 21,
     "metadata": {},
     "output_type": "execute_result"
    }
   ],
   "source": [
    "wnl = nltk.WordNetLemmatizer()\n",
    "\n",
    "token_lemma = [wnl.lemmatize(t) for t in words]\n",
    "fdist = nltk.FreqDist(token_lemma)\n",
    "\n",
    "token_lemma = fdist.most_common(10)\n",
    "token_lemma"
   ]
  },
  {
   "cell_type": "markdown",
   "metadata": {},
   "source": [
    "## Comparing the top-10 tokens obtained with different text mining methods"
   ]
  },
  {
   "cell_type": "code",
   "execution_count": 22,
   "metadata": {},
   "outputs": [
    {
     "data": {
      "text/plain": [
       "[(',', 644165),\n",
       " ('AND', 170713),\n",
       " (':', 125580),\n",
       " ('MAINTAINED', 83838),\n",
       " ('FOOD', 83568),\n",
       " ('PROPERLY', 66966),\n",
       " ('CLEAN', 66375),\n",
       " ('CONSTRUCTED', 65594),\n",
       " ('EQUIPMENT', 64487),\n",
       " ('&', 63424)]"
      ]
     },
     "execution_count": 22,
     "metadata": {},
     "output_type": "execute_result"
    }
   ],
   "source": [
    "token_all"
   ]
  },
  {
   "cell_type": "code",
   "execution_count": 23,
   "metadata": {},
   "outputs": [
    {
     "data": {
      "text/plain": [
       "[('and', 170713),\n",
       " ('maintained', 83838),\n",
       " ('food', 83568),\n",
       " ('properly', 66966),\n",
       " ('clean', 66375),\n",
       " ('constructed', 65594),\n",
       " ('equipment', 64487),\n",
       " ('installed', 63103),\n",
       " ('of', 61401),\n",
       " ('cleaning', 48289)]"
      ]
     },
     "execution_count": 23,
     "metadata": {},
     "output_type": "execute_result"
    }
   ],
   "source": [
    "token_preprocessed"
   ]
  },
  {
   "cell_type": "code",
   "execution_count": 24,
   "metadata": {},
   "outputs": [
    {
     "data": {
      "text/plain": [
       "[('and', 170713),\n",
       " ('clean', 140318),\n",
       " ('food', 88048),\n",
       " ('maintain', 87945),\n",
       " ('properli', 66966),\n",
       " ('construct', 65594),\n",
       " ('equip', 64493),\n",
       " ('instal', 63162),\n",
       " ('of', 61401),\n",
       " ('surfac', 47463)]"
      ]
     },
     "execution_count": 24,
     "metadata": {},
     "output_type": "execute_result"
    }
   ],
   "source": [
    "token_porter"
   ]
  },
  {
   "cell_type": "code",
   "execution_count": 25,
   "metadata": {},
   "outputs": [
    {
     "data": {
      "text/plain": [
       "[('and', 170713),\n",
       " ('cle', 147846),\n",
       " ('food', 88048),\n",
       " ('maintain', 87945),\n",
       " ('prop', 82874),\n",
       " ('construct', 65594),\n",
       " ('equip', 64493),\n",
       " ('instal', 63162),\n",
       " ('of', 61401),\n",
       " ('surfac', 47463)]"
      ]
     },
     "execution_count": 25,
     "metadata": {},
     "output_type": "execute_result"
    }
   ],
   "source": [
    "token_lancaster"
   ]
  },
  {
   "cell_type": "code",
   "execution_count": 26,
   "metadata": {},
   "outputs": [
    {
     "data": {
      "text/plain": [
       "[('and', 170713),\n",
       " ('food', 88048),\n",
       " ('maintained', 83838),\n",
       " ('properly', 66966),\n",
       " ('clean', 66375),\n",
       " ('constructed', 65594),\n",
       " ('equipment', 64491),\n",
       " ('installed', 63103),\n",
       " ('of', 61401),\n",
       " ('cleaning', 48289)]"
      ]
     },
     "execution_count": 26,
     "metadata": {},
     "output_type": "execute_result"
    }
   ],
   "source": [
    "token_lemma"
   ]
  },
  {
   "cell_type": "markdown",
   "metadata": {},
   "source": [
    "# Discussion"
   ]
  },
  {
   "cell_type": "markdown",
   "metadata": {},
   "source": [
    "## Unprocessed data is containing the punctuations and stopwords that were most frequently used in the claims. After processing the text, we see distinct words that provide some context about the claims. For example, we observe that the top 10 words are generally positive, yet the word \"clean\" might have been used as \"not clean\". Therefore, we lack the sufficient evidence to conclude whether the business are good or bad. Since we know these are the descriptions from failed inspections, we can say that there might be problems with the food and maintenance of equipments.\n",
    "\n"
   ]
  },
  {
   "cell_type": "markdown",
   "metadata": {},
   "source": [
    "## Using the Porter's Stemmer increased the occurance of clean. This might be the result of changing [\"cleaning\", \"cleaned\"] to \"clean\".\n"
   ]
  },
  {
   "cell_type": "code",
   "execution_count": 27,
   "metadata": {},
   "outputs": [
    {
     "name": "stdout",
     "output_type": "stream",
     "text": [
      "Displaying 25 of 48289 matches:\n",
      "eaned good repair coving installed cleaning methods used walls ceilings attach\n",
      "ode good repair surfaces clean and cleaning methods lighting required minimum \n",
      "ree of litter unnecessary articles cleaning equipment properly stored food han\n",
      "eaned good repair coving installed cleaning methods used walls ceilings attach\n",
      "ode good repair surfaces clean and cleaning methods lighting required minimum \n",
      "ree of litter unnecessary articles cleaning equipment properly stored sanitizi\n",
      "eaned good repair coving installed cleaning methods used walls ceilings attach\n",
      "ode good repair surfaces clean and cleaning methods lighting required minimum \n",
      "ree of litter unnecessary articles cleaning equipment properly stored food ice\n",
      "eaned good repair coving installed cleaning methods used walls ceilings attach\n",
      "ode good repair surfaces clean and cleaning methods ventilation rooms and equi\n",
      "ree of litter unnecessary articles cleaning equipment properly stored faciliti\n",
      "eaned good repair coving installed cleaning methods used walls ceilings attach\n",
      "ode good repair surfaces clean and cleaning methods lighting required minimum \n",
      "ree of litter unnecessary articles cleaning equipment properly stored no evide\n",
      "eaned good repair coving installed cleaning methods used walls ceilings attach\n",
      "ode good repair surfaces clean and cleaning methods lighting required minimum \n",
      "eaned good repair coving installed cleaning methods used walls ceilings attach\n",
      "ode good repair surfaces clean and cleaning methods refrigeration and metal st\n",
      "ree of litter unnecessary articles cleaning equipment properly stored faciliti\n",
      "eaned good repair coving installed cleaning methods used walls ceilings attach\n",
      "ode good repair surfaces clean and cleaning methods lighting required minimum \n",
      "ree of litter unnecessary articles cleaning equipment properly stored source s\n",
      "eaned good repair coving installed cleaning methods used walls ceilings attach\n",
      "ode good repair surfaces clean and cleaning methods ventilation rooms and equi\n"
     ]
    }
   ],
   "source": [
    "Text(words).concordance('cleaning')"
   ]
  },
  {
   "cell_type": "markdown",
   "metadata": {},
   "source": [
    "## Here we see that, the word \"cleaning\" was used 48289, so this result proves our hypothesis."
   ]
  },
  {
   "cell_type": "markdown",
   "metadata": {},
   "source": [
    "## For the Lancaster's Stemmer, we don't see any distinction between Porter and Lancaster"
   ]
  },
  {
   "cell_type": "markdown",
   "metadata": {},
   "source": [
    "## After applying the Lemmatizer, we see that the word \"food\" becomes the top token in our data. This can be a result of changing \"foods\" to \"food\""
   ]
  },
  {
   "cell_type": "code",
   "execution_count": 28,
   "metadata": {},
   "outputs": [
    {
     "name": "stdout",
     "output_type": "stream",
     "text": [
      "Displaying 25 of 4480 matches:\n",
      "eled original container observed all foods in coolers stored out of original co\n",
      "ovide the name and prep date for all foods stored out of original containers ut\n",
      "t provide identifying labels for all foods stored out of original containers in\n",
      "re or reminder on menu of raw cooked foods provide and maintian priority founda\n",
      "r on site when potentially hazardous foods are prepared and served dish machine\n",
      "r on site when potentially hazardous foods are prepared and served food in orig\n",
      "r on site when potentially hazardous foods are prepared and served food in orig\n",
      "r on site when potentially hazardous foods are prepared and served food and con\n",
      "d source sound condition no spoilage foods properly labeled shellfish tags in p\n",
      "r on site when potentially hazardous foods are prepared and served clean utensi\n",
      "r on site when potentially hazardous foods are prepared and served dish washing\n",
      "r on site when potentially hazardous foods are prepared and served food in orig\n",
      "r on site when potentially hazardous foods are prepared and served food and con\n",
      "r on site when potentially hazardous foods are prepared and served food and con\n",
      "r on site when potentially hazardous foods are prepared and served dish machine\n",
      "r on site when potentially hazardous foods are prepared and served food and con\n",
      "r on site when potentially hazardous foods are prepared and served food in orig\n",
      "d source sound condition no spoilage foods properly labeled shellfish tags in p\n",
      "r on site when potentially hazardous foods are prepared and served food in orig\n",
      "t source sound condition no spoilage foods properly labeled shellfish tags in p\n",
      "r on site when potentially hazardous foods are prepared and served dish machine\n",
      "r on site when potentially hazardous foods are prepared and served food and con\n",
      "r on site when potentially hazardous foods are prepared and served food in orig\n",
      "r on site when potentially hazardous foods are prepared and served food and con\n",
      "s source sound condition no spoilage foods properly labeled shellfish tags in p\n"
     ]
    }
   ],
   "source": [
    "Text(words).concordance('foods')"
   ]
  },
  {
   "cell_type": "markdown",
   "metadata": {},
   "source": [
    "## Here, we can clearly see there were 4480 matches for \"foods\" which are changed to \"food\" after applying WordNetLemmatizer"
   ]
  }
 ],
 "metadata": {
  "kernelspec": {
   "display_name": "Python 3",
   "language": "python",
   "name": "python3"
  },
  "language_info": {
   "codemirror_mode": {
    "name": "ipython",
    "version": 3
   },
   "file_extension": ".py",
   "mimetype": "text/x-python",
   "name": "python",
   "nbconvert_exporter": "python",
   "pygments_lexer": "ipython3",
   "version": "3.8.5"
  }
 },
 "nbformat": 4,
 "nbformat_minor": 4
}
